{
  "cells": [
    {
      "attachments": {},
      "cell_type": "markdown",
      "metadata": {
        "id": "8HV4rVTmEg7D"
      },
      "source": [
        "<h2 style=\"color: red;\"><strong>Imports:</strong></h2>"
      ]
    },
    {
      "attachments": {},
      "cell_type": "markdown",
      "metadata": {},
      "source": [
        "Qua importiamo le librerie che utilizzeremo nel corso del nostro programma"
      ]
    },
    {
      "cell_type": "code",
      "execution_count": null,
      "metadata": {
        "id": "BzXavdjEEfpH"
      },
      "outputs": [
        {
          "ename": "",
          "evalue": "",
          "output_type": "error",
          "traceback": [
            "\u001b[1;31mFailed to start the Kernel. \n",
            "\u001b[1;31mRuntimeError: Permissions assignment failed for secure file: '/mnt/d/Marco/.local/share/jupyter/runtime/kernel-v2-980ZpnBqUPOZ9nJ.json'. Got '0o677' instead of '0o0600'. \n",
            "\u001b[1;31mView Jupyter <a href='command:jupyter.viewOutput'>log</a> for further details."
          ]
        }
      ],
      "source": [
        "# API\n",
        "from fastapi import FastAPI\n",
        "from typing import Union\n",
        "\n",
        "import pandas as pd\n",
        "\n",
        "# machine learning\n",
        "from sklearn.linear_model import LogisticRegression\n",
        "from sklearn.svm import SVC, LinearSVC\n",
        "from sklearn.ensemble import RandomForestClassifier\n",
        "from sklearn.neighbors import KNeighborsClassifier\n",
        "from sklearn.naive_bayes import GaussianNB\n",
        "from sklearn.linear_model import Perceptron\n",
        "from sklearn.linear_model import SGDClassifier\n",
        "from sklearn.tree import DecisionTreeClassifier\n",
        "from sklearn.metrics import accuracy_score\n",
        "from sklearn.model_selection import train_test_split"
      ]
    },
    {
      "cell_type": "code",
      "execution_count": null,
      "metadata": {},
      "outputs": [
        {
          "ename": "",
          "evalue": "",
          "output_type": "error",
          "traceback": [
            "\u001b[1;31mFailed to start the Kernel. \n",
            "\u001b[1;31mRuntimeError: Permissions assignment failed for secure file: '/mnt/d/Marco/.local/share/jupyter/runtime/kernel-v2-980ZpnBqUPOZ9nJ.json'. Got '0o677' instead of '0o0600'. \n",
            "\u001b[1;31mView Jupyter <a href='command:jupyter.viewOutput'>log</a> for further details."
          ]
        }
      ],
      "source": [
        "import nest_asyncio\n",
        "import uvicorn"
      ]
    },
    {
      "attachments": {},
      "cell_type": "markdown",
      "metadata": {
        "id": "vNgdpTAvEkxm"
      },
      "source": [
        "<h2 style=\"color: red;\"><strong>Data Analysis:</strong></h2>"
      ]
    },
    {
      "attachments": {},
      "cell_type": "markdown",
      "metadata": {
        "id": "5jdNHe_rBFWk"
      },
      "source": [
        "<h4 style=\"color: gold;\">Funzioni:</h4>"
      ]
    },
    {
      "attachments": {},
      "cell_type": "markdown",
      "metadata": {},
      "source": [
        "La funzione stampaPercentDF() ha come scopo quello di restituire le percentuali della colonna Severity, passandogli come parametro il dataframe su cui vogliamo vedere le percentuali"
      ]
    },
    {
      "cell_type": "code",
      "execution_count": null,
      "metadata": {
        "id": "AM4JmMYwBHN7"
      },
      "outputs": [
        {
          "ename": "",
          "evalue": "",
          "output_type": "error",
          "traceback": [
            "\u001b[1;31mFailed to start the Kernel. \n",
            "\u001b[1;31mRuntimeError: Permissions assignment failed for secure file: '/mnt/d/Marco/.local/share/jupyter/runtime/kernel-v2-980ZpnBqUPOZ9nJ.json'. Got '0o677' instead of '0o0600'. \n",
            "\u001b[1;31mView Jupyter <a href='command:jupyter.viewOutput'>log</a> for further details."
          ]
        }
      ],
      "source": [
        "def stampaPercentDF(df):\n",
        "    for name, group in df:\n",
        "    # La funzione value_counts() ritorna la percentuale di apparizione per ogni elemento univoco,\n",
        "    # è come un groupby però ci aggiunge le percentuali (se aggiungo il parametro normalize) altrimenti ritornebbe solo il numero di volte in cui i valori appaiono\n",
        "        group = round(group['Severity'].value_counts(normalize=True) * 100, 2)\n",
        "        print(name)\n",
        "        print(group)\n",
        "        print('-'*10)"
      ]
    },
    {
      "attachments": {},
      "cell_type": "markdown",
      "metadata": {
        "id": "nKKkH-e3JV_6"
      },
      "source": [
        "<h4 style=\"color: gold;\">DataFrames:</h4>"
      ]
    },
    {
      "cell_type": "code",
      "execution_count": null,
      "metadata": {
        "id": "1JQm66jP1v3q"
      },
      "outputs": [
        {
          "ename": "",
          "evalue": "",
          "output_type": "error",
          "traceback": [
            "\u001b[1;31mFailed to start the Kernel. \n",
            "\u001b[1;31mRuntimeError: Permissions assignment failed for secure file: '/mnt/d/Marco/.local/share/jupyter/runtime/kernel-v2-980ZpnBqUPOZ9nJ.json'. Got '0o677' instead of '0o0600'. \n",
            "\u001b[1;31mView Jupyter <a href='command:jupyter.viewOutput'>log</a> for further details."
          ]
        }
      ],
      "source": [
        "df_completo = pd.read_csv('CSVCompleto.csv')"
      ]
    },
    {
      "attachments": {},
      "cell_type": "markdown",
      "metadata": {
        "id": "m-STVLsuADMx"
      },
      "source": [
        "<p style = \"color: gray;\">Elimino tutti i valori Nan per evitare eventuali errori.</p>"
      ]
    },
    {
      "cell_type": "code",
      "execution_count": null,
      "metadata": {
        "id": "Gtq3qYw6ACel"
      },
      "outputs": [
        {
          "ename": "",
          "evalue": "",
          "output_type": "error",
          "traceback": [
            "\u001b[1;31mFailed to start the Kernel. \n",
            "\u001b[1;31mRuntimeError: Permissions assignment failed for secure file: '/mnt/d/Marco/.local/share/jupyter/runtime/kernel-v2-980ZpnBqUPOZ9nJ.json'. Got '0o677' instead of '0o0600'. \n",
            "\u001b[1;31mView Jupyter <a href='command:jupyter.viewOutput'>log</a> for further details."
          ]
        }
      ],
      "source": [
        "df_completo = df_completo[~(pd.isna(df_completo.iloc[:,0]))]"
      ]
    },
    {
      "attachments": {},
      "cell_type": "markdown",
      "metadata": {
        "id": "z6qyVhkhAata"
      },
      "source": [
        "<p style = \"color: gray;\">Drop di colonne / righe non utili allo studio dei dati o che rendono più complesso lo studio</p>"
      ]
    },
    {
      "attachments": {},
      "cell_type": "markdown",
      "metadata": {},
      "source": [
        "Abbiamo scelto di eliminare tutte le righe che avevano nella colonna Type il valore Moving average, che simboleggiava un arco temporale, abbiamo deciso di escludere questi valori per aiutarci ad analizzare i dati anno per anno per una maggior accuratezza."
      ]
    },
    {
      "cell_type": "code",
      "execution_count": null,
      "metadata": {},
      "outputs": [
        {
          "ename": "",
          "evalue": "",
          "output_type": "error",
          "traceback": [
            "\u001b[1;31mFailed to start the Kernel. \n",
            "\u001b[1;31mRuntimeError: Permissions assignment failed for secure file: '/mnt/d/Marco/.local/share/jupyter/runtime/kernel-v2-980ZpnBqUPOZ9nJ.json'. Got '0o677' instead of '0o0600'. \n",
            "\u001b[1;31mView Jupyter <a href='command:jupyter.viewOutput'>log</a> for further details."
          ]
        }
      ],
      "source": [
        "df_completo = df_completo.drop(df_completo[df_completo['Type'] == 'Moving average'].index, axis=0)"
      ]
    },
    {
      "attachments": {},
      "cell_type": "markdown",
      "metadata": {},
      "source": [
        "Con questo codice, eliminiamo le colonne che contengono dati che abbiamo decretato non essere utili per l'analisi.\n",
        "La decisione di quali colonne è stata fatte tramite l'ausilio della funzione stampaPercentDF() che riportava, per tutte queste colonne, o percentuali simili oppure elementi troppo specifici:"
      ]
    },
    {
      "cell_type": "code",
      "execution_count": null,
      "metadata": {},
      "outputs": [
        {
          "ename": "",
          "evalue": "",
          "output_type": "error",
          "traceback": [
            "\u001b[1;31mFailed to start the Kernel. \n",
            "\u001b[1;31mRuntimeError: Permissions assignment failed for secure file: '/mnt/d/Marco/.local/share/jupyter/runtime/kernel-v2-980ZpnBqUPOZ9nJ.json'. Got '0o677' instead of '0o0600'. \n",
            "\u001b[1;31mView Jupyter <a href='command:jupyter.viewOutput'>log</a> for further details."
          ]
        }
      ],
      "source": [
        "print('------ Period ------')\n",
        "stampaPercentDF(df_completo.groupby('Period'))\n",
        "print('------ Data Value ------')\n",
        "stampaPercentDF(df_completo.groupby('Data_value'))\n",
        "print('------ Lower_CI ------')\n",
        "stampaPercentDF(df_completo.groupby('Lower_CI'))\n",
        "print('------ Upper_CI ------')\n",
        "stampaPercentDF(df_completo.groupby('Upper_CI'))\n",
        "print('------ Units ------')\n",
        "stampaPercentDF(df_completo.groupby('Units'))\n",
        "print('------ Indicator ------')\n",
        "stampaPercentDF(df_completo.groupby('Indicator'))\n",
        "print('------ Cause ------')\n",
        "stampaPercentDF(df_completo.groupby('Cause'))\n",
        "print('------ Validation ------')\n",
        "stampaPercentDF(df_completo.groupby('Validation'))\n",
        "print('------ Population ------')\n",
        "stampaPercentDF(df_completo.groupby('Population'))\n",
        "print('------ Age ------')\n",
        "stampaPercentDF(df_completo.groupby('Age'))"
      ]
    },
    {
      "attachments": {},
      "cell_type": "markdown",
      "metadata": {},
      "source": [
        "<p> Dopo un'attenta analisi delle percentuali si evince che le colonne che non hanno prodotto percentuali soddisfacenti sono:"
      ]
    },
    {
      "cell_type": "code",
      "execution_count": null,
      "metadata": {},
      "outputs": [
        {
          "ename": "",
          "evalue": "",
          "output_type": "error",
          "traceback": [
            "\u001b[1;31mFailed to start the Kernel. \n",
            "\u001b[1;31mRuntimeError: Permissions assignment failed for secure file: '/mnt/d/Marco/.local/share/jupyter/runtime/kernel-v2-980ZpnBqUPOZ9nJ.json'. Got '0o677' instead of '0o0600'. \n",
            "\u001b[1;31mView Jupyter <a href='command:jupyter.viewOutput'>log</a> for further details."
          ]
        }
      ],
      "source": [
        "df_completo = df_completo.drop(['Series_reference', 'Validation', 'Indicator', 'Type'], axis=1)"
      ]
    },
    {
      "attachments": {},
      "cell_type": "markdown",
      "metadata": {
        "id": "1JzT2wuMA6Fx"
      },
      "source": [
        "<p style = \"color: gray;\">Raggruppo e faccio il mapping di dati, dato che scikit-learn non ammette stringhe nei suoi modelli</p>"
      ]
    },
    {
      "attachments": {},
      "cell_type": "markdown",
      "metadata": {},
      "source": [
        "Qui appunto eseguo il mapping in base ai dati che sono di tipo stringa, attribuendogli un valore intero.\n",
        "Ad ogni colonna ho dedicato una map su cui ho indicizzato tutti i valori che contiene la colonna, col il rispettivo sostituto intero."
      ]
    },
    {
      "attachments": {},
      "cell_type": "markdown",
      "metadata": {},
      "source": [
        "Per trovare quali valori contenesse ogni colonna abbiamo fatto un semplice groupby della colonna e successivamente stampato tutti i valori raggruppati"
      ]
    },
    {
      "attachments": {},
      "cell_type": "markdown",
      "metadata": {},
      "source": [
        "Es: con la colonna Units"
      ]
    },
    {
      "cell_type": "code",
      "execution_count": null,
      "metadata": {},
      "outputs": [
        {
          "ename": "",
          "evalue": "",
          "output_type": "error",
          "traceback": [
            "\u001b[1;31mFailed to start the Kernel. \n",
            "\u001b[1;31mRuntimeError: Permissions assignment failed for secure file: '/mnt/d/Marco/.local/share/jupyter/runtime/kernel-v2-980ZpnBqUPOZ9nJ.json'. Got '0o677' instead of '0o0600'. \n",
            "\u001b[1;31mView Jupyter <a href='command:jupyter.viewOutput'>log</a> for further details."
          ]
        }
      ],
      "source": [
        "df_esempio = df_completo.groupby('Units')\n",
        "df_esempio.all()"
      ]
    },
    {
      "cell_type": "code",
      "execution_count": null,
      "metadata": {},
      "outputs": [
        {
          "ename": "",
          "evalue": "",
          "output_type": "error",
          "traceback": [
            "\u001b[1;31mFailed to start the Kernel. \n",
            "\u001b[1;31mRuntimeError: Permissions assignment failed for secure file: '/mnt/d/Marco/.local/share/jupyter/runtime/kernel-v2-980ZpnBqUPOZ9nJ.json'. Got '0o677' instead of '0o0600'. \n",
            "\u001b[1;31mView Jupyter <a href='command:jupyter.viewOutput'>log</a> for further details."
          ]
        }
      ],
      "source": [
        "units_map = {\n",
        "    'Injuries': 1,\n",
        "    'Per 100,000 FTEs': 2,\n",
        "    'Per 100,000 people': 3,\n",
        "    'Per billion km': 4,\n",
        "    'Per thousand registered vehicles': 5\n",
        "}\n",
        "df_completo['Units'] = df_completo['Units'].map(units_map)\n",
        "\n",
        "pop_map = {\n",
        "    'Maori': 1,\n",
        "    'Whole pop': 2,\n",
        "    'Children': 3\n",
        "}\n",
        "df_completo['Population'] = df_completo['Population'].map(pop_map)\n",
        "\n",
        "cause_map = {\n",
        "    'All': 1,\n",
        "    'Assault': 2,\n",
        "    'Drowing': 3,\n",
        "    'Falls': 4,\n",
        "    'Intentional self-harm': 5,\n",
        "    'Motor vehicle traffic crashes': 6,\n",
        "    'Work': 7,\n",
        "    'Car occupant': 8,\n",
        "    'Intentional': 9,\n",
        "    'Pedestrian': 10\n",
        "}\n",
        "df_completo['Cause'] = df_completo['Cause'].map(cause_map)\n",
        "\n",
        "age_map = {\n",
        "    '0-14 years': 1,\n",
        "    '0-74 years': 2,\n",
        "    '75+ years': 3,\n",
        "    'All ages':4\n",
        "}\n",
        "df_completo['Age'] = df_completo['Age'].map(age_map)\n",
        "\n",
        "severity_map = {\n",
        "    'Fatal': 1,\n",
        "    'Serious non-fatal': 2,\n",
        "    'Serious': 3\n",
        "}\n",
        "df_completo['Severity'] = df_completo['Severity'].map(severity_map)\n",
        "\n",
        "# Arrondo i numeri a 2 cifre dopo la virgola, dato che nel CSV ne hanno molti di più.\n",
        "df_completo['Lower_CI'] = round(df_completo['Lower_CI'], 2)\n",
        "df_completo['Upper_CI'] = round(df_completo['Upper_CI'], 2)\n",
        "\n",
        "print(df_completo)"
      ]
    },
    {
      "attachments": {},
      "cell_type": "markdown",
      "metadata": {},
      "source": [
        "<h2 style=\"color: Red;\"> Machine Learning</h2>"
      ]
    },
    {
      "attachments": {},
      "cell_type": "markdown",
      "metadata": {},
      "source": [
        "<p style=\"color: gray;\">Dividiamo il file csv nei file di train e di test, il file di test ha il 30% del totale dei dati, mentre il file di train ha il 70% restante</p>"
      ]
    },
    {
      "cell_type": "code",
      "execution_count": null,
      "metadata": {},
      "outputs": [
        {
          "ename": "",
          "evalue": "",
          "output_type": "error",
          "traceback": [
            "\u001b[1;31mFailed to start the Kernel. \n",
            "\u001b[1;31mRuntimeError: Permissions assignment failed for secure file: '/mnt/d/Marco/.local/share/jupyter/runtime/kernel-v2-980ZpnBqUPOZ9nJ.json'. Got '0o677' instead of '0o0600'. \n",
            "\u001b[1;31mView Jupyter <a href='command:jupyter.viewOutput'>log</a> for further details."
          ]
        }
      ],
      "source": [
        "# suddivide il dataframe in 70/30\n",
        "df_test, df_train = train_test_split(df_completo, test_size=0.3, random_state=42)\n",
        "\n",
        "# salva i dati in due file CSV distinti\n",
        "df_train.to_csv('medical-test.csv', index=False)\n",
        "df_test.to_csv('medical-train.csv', index=False)"
      ]
    },
    {
      "attachments": {},
      "cell_type": "markdown",
      "metadata": {},
      "source": [
        "<p style = \"color: gray\">Creo le variabili di test / train utili per la predizione dei dati nei vari modelli</p>"
      ]
    },
    {
      "cell_type": "code",
      "execution_count": null,
      "metadata": {},
      "outputs": [
        {
          "ename": "",
          "evalue": "",
          "output_type": "error",
          "traceback": [
            "\u001b[1;31mFailed to start the Kernel. \n",
            "\u001b[1;31mRuntimeError: Permissions assignment failed for secure file: '/mnt/d/Marco/.local/share/jupyter/runtime/kernel-v2-980ZpnBqUPOZ9nJ.json'. Got '0o677' instead of '0o0600'. \n",
            "\u001b[1;31mView Jupyter <a href='command:jupyter.viewOutput'>log</a> for further details."
          ]
        }
      ],
      "source": [
        "Y_test = df_test[\"Severity\"]\n",
        "Y_train = df_train[\"Severity\"]\n",
        "X_train = df_train.drop(\"Severity\", axis=1)\n",
        "X_test  = df_test.drop(\"Severity\", axis=1,errors='ignore').copy()\n",
        "X_train.shape, Y_train.shape, X_test.shape"
      ]
    },
    {
      "attachments": {},
      "cell_type": "markdown",
      "metadata": {},
      "source": [
        "<h5 style=\"color: pink;\">Logistic Regression</h5>"
      ]
    },
    {
      "cell_type": "code",
      "execution_count": null,
      "metadata": {
        "id": "9-d_tPbrBLV3"
      },
      "outputs": [
        {
          "ename": "",
          "evalue": "",
          "output_type": "error",
          "traceback": [
            "\u001b[1;31mFailed to start the Kernel. \n",
            "\u001b[1;31mRuntimeError: Permissions assignment failed for secure file: '/mnt/d/Marco/.local/share/jupyter/runtime/kernel-v2-980ZpnBqUPOZ9nJ.json'. Got '0o677' instead of '0o0600'. \n",
            "\u001b[1;31mView Jupyter <a href='command:jupyter.viewOutput'>log</a> for further details."
          ]
        }
      ],
      "source": [
        "logreg = LogisticRegression()\n",
        "logreg.fit(X_train, Y_train)\n",
        "print(X_test)\n",
        "acc_log = round(logreg.score(X_train, Y_train) * 100, 2)\n",
        "print(acc_log)\n",
        "acc_log = round(logreg.score(X_test, Y_test) * 100, 2)\n",
        "\n",
        "acc_log"
      ]
    },
    {
      "attachments": {},
      "cell_type": "markdown",
      "metadata": {},
      "source": [
        "<h5 style=\"color: pink;\">Support Vector Machines</h5>"
      ]
    },
    {
      "cell_type": "code",
      "execution_count": null,
      "metadata": {},
      "outputs": [
        {
          "ename": "",
          "evalue": "",
          "output_type": "error",
          "traceback": [
            "\u001b[1;31mFailed to start the Kernel. \n",
            "\u001b[1;31mRuntimeError: Permissions assignment failed for secure file: '/mnt/d/Marco/.local/share/jupyter/runtime/kernel-v2-980ZpnBqUPOZ9nJ.json'. Got '0o677' instead of '0o0600'. \n",
            "\u001b[1;31mView Jupyter <a href='command:jupyter.viewOutput'>log</a> for further details."
          ]
        }
      ],
      "source": [
        "# Support Vector Machines\n",
        "\n",
        "svc = SVC()\n",
        "svc.fit(X_train, Y_train)\n",
        "Y_pred = svc.predict(X_test)\n",
        "acc_svc = round(svc.score(X_train, Y_train) * 100, 2)\n",
        "acc_svc"
      ]
    },
    {
      "attachments": {},
      "cell_type": "markdown",
      "metadata": {},
      "source": [
        "<h5 style=\"color: pink;\">KNN</h5>"
      ]
    },
    {
      "cell_type": "code",
      "execution_count": null,
      "metadata": {},
      "outputs": [
        {
          "ename": "",
          "evalue": "",
          "output_type": "error",
          "traceback": [
            "\u001b[1;31mFailed to start the Kernel. \n",
            "\u001b[1;31mRuntimeError: Permissions assignment failed for secure file: '/mnt/d/Marco/.local/share/jupyter/runtime/kernel-v2-980ZpnBqUPOZ9nJ.json'. Got '0o677' instead of '0o0600'. \n",
            "\u001b[1;31mView Jupyter <a href='command:jupyter.viewOutput'>log</a> for further details."
          ]
        }
      ],
      "source": [
        "# KNN\n",
        "\n",
        "knn = KNeighborsClassifier(n_neighbors = 3)\n",
        "knn.fit(X_train, Y_train)\n",
        "Y_pred = knn.predict(X_test)\n",
        "acc_knn = round(knn.score(X_train, Y_train) * 100, 2)\n",
        "acc_knn"
      ]
    },
    {
      "attachments": {},
      "cell_type": "markdown",
      "metadata": {},
      "source": [
        "<h5 style=\"color: pink;\">Gaussian Naive Bayes</h5>"
      ]
    },
    {
      "cell_type": "code",
      "execution_count": null,
      "metadata": {},
      "outputs": [
        {
          "ename": "",
          "evalue": "",
          "output_type": "error",
          "traceback": [
            "\u001b[1;31mFailed to start the Kernel. \n",
            "\u001b[1;31mRuntimeError: Permissions assignment failed for secure file: '/mnt/d/Marco/.local/share/jupyter/runtime/kernel-v2-980ZpnBqUPOZ9nJ.json'. Got '0o677' instead of '0o0600'. \n",
            "\u001b[1;31mView Jupyter <a href='command:jupyter.viewOutput'>log</a> for further details."
          ]
        }
      ],
      "source": [
        "# Gaussian Naive Bayes\n",
        "\n",
        "gaussian = GaussianNB()\n",
        "gaussian.fit(X_train, Y_train)\n",
        "Y_pred = gaussian.predict(X_test)\n",
        "acc_gaussian = round(gaussian.score(X_train, Y_train) * 100, 2)\n",
        "acc_gaussian"
      ]
    },
    {
      "attachments": {},
      "cell_type": "markdown",
      "metadata": {},
      "source": [
        "<h5 style=\"color: pink;\">Perceptron</h5>"
      ]
    },
    {
      "cell_type": "code",
      "execution_count": null,
      "metadata": {},
      "outputs": [
        {
          "ename": "",
          "evalue": "",
          "output_type": "error",
          "traceback": [
            "\u001b[1;31mFailed to start the Kernel. \n",
            "\u001b[1;31mRuntimeError: Permissions assignment failed for secure file: '/mnt/d/Marco/.local/share/jupyter/runtime/kernel-v2-980ZpnBqUPOZ9nJ.json'. Got '0o677' instead of '0o0600'. \n",
            "\u001b[1;31mView Jupyter <a href='command:jupyter.viewOutput'>log</a> for further details."
          ]
        }
      ],
      "source": [
        "# Perceptron\n",
        "\n",
        "perceptron = Perceptron()\n",
        "perceptron.fit(X_train, Y_train)\n",
        "Y_pred = perceptron.predict(X_test)\n",
        "acc_perceptron = round(perceptron.score(X_train, Y_train) * 100, 2)\n",
        "acc_perceptron"
      ]
    },
    {
      "attachments": {},
      "cell_type": "markdown",
      "metadata": {},
      "source": [
        "<h5 style=\"color: pink;\">Linear SVC</h5>"
      ]
    },
    {
      "cell_type": "code",
      "execution_count": null,
      "metadata": {},
      "outputs": [
        {
          "ename": "",
          "evalue": "",
          "output_type": "error",
          "traceback": [
            "\u001b[1;31mFailed to start the Kernel. \n",
            "\u001b[1;31mRuntimeError: Permissions assignment failed for secure file: '/mnt/d/Marco/.local/share/jupyter/runtime/kernel-v2-980ZpnBqUPOZ9nJ.json'. Got '0o677' instead of '0o0600'. \n",
            "\u001b[1;31mView Jupyter <a href='command:jupyter.viewOutput'>log</a> for further details."
          ]
        }
      ],
      "source": [
        "# Linear SVC\n",
        "\n",
        "linear_svc = LinearSVC()\n",
        "linear_svc.fit(X_train, Y_train)\n",
        "Y_pred = linear_svc.predict(X_test)\n",
        "acc_linear_svc = round(linear_svc.score(X_train, Y_train) * 100, 2)\n",
        "acc_linear_svc"
      ]
    },
    {
      "attachments": {},
      "cell_type": "markdown",
      "metadata": {},
      "source": [
        "<h5 style=\"color: pink;\">Stochastic Gradient Descent</h5>"
      ]
    },
    {
      "cell_type": "code",
      "execution_count": null,
      "metadata": {},
      "outputs": [
        {
          "ename": "",
          "evalue": "",
          "output_type": "error",
          "traceback": [
            "\u001b[1;31mFailed to start the Kernel. \n",
            "\u001b[1;31mRuntimeError: Permissions assignment failed for secure file: '/mnt/d/Marco/.local/share/jupyter/runtime/kernel-v2-980ZpnBqUPOZ9nJ.json'. Got '0o677' instead of '0o0600'. \n",
            "\u001b[1;31mView Jupyter <a href='command:jupyter.viewOutput'>log</a> for further details."
          ]
        }
      ],
      "source": [
        "# Stochastic Gradient Descent\n",
        "\n",
        "sgd = SGDClassifier()\n",
        "sgd.fit(X_train, Y_train)\n",
        "Y_pred = sgd.predict(X_test)\n",
        "acc_sgd = round(sgd.score(X_train, Y_train) * 100, 2)\n",
        "acc_sgd"
      ]
    },
    {
      "attachments": {},
      "cell_type": "markdown",
      "metadata": {},
      "source": [
        "<h5 style=\"color: pink;\">Decision Tree</h5>"
      ]
    },
    {
      "cell_type": "code",
      "execution_count": null,
      "metadata": {},
      "outputs": [
        {
          "ename": "",
          "evalue": "",
          "output_type": "error",
          "traceback": [
            "\u001b[1;31mFailed to start the Kernel. \n",
            "\u001b[1;31mRuntimeError: Permissions assignment failed for secure file: '/mnt/d/Marco/.local/share/jupyter/runtime/kernel-v2-980ZpnBqUPOZ9nJ.json'. Got '0o677' instead of '0o0600'. \n",
            "\u001b[1;31mView Jupyter <a href='command:jupyter.viewOutput'>log</a> for further details."
          ]
        }
      ],
      "source": [
        "# Decision Tree\n",
        "\n",
        "decision_tree = DecisionTreeClassifier()\n",
        "decision_tree.fit(X_train, Y_train)\n",
        "Y_pred = decision_tree.predict(X_test)\n",
        "acc_decision_tree = round(decision_tree.score(X_train, Y_train) * 100, 2)\n",
        "acc_decision_tree"
      ]
    },
    {
      "attachments": {},
      "cell_type": "markdown",
      "metadata": {},
      "source": [
        "<h5 style=\"color: pink;\">Random Forest</h5>"
      ]
    },
    {
      "cell_type": "code",
      "execution_count": null,
      "metadata": {},
      "outputs": [
        {
          "ename": "",
          "evalue": "",
          "output_type": "error",
          "traceback": [
            "\u001b[1;31mFailed to start the Kernel. \n",
            "\u001b[1;31mRuntimeError: Permissions assignment failed for secure file: '/mnt/d/Marco/.local/share/jupyter/runtime/kernel-v2-980ZpnBqUPOZ9nJ.json'. Got '0o677' instead of '0o0600'. \n",
            "\u001b[1;31mView Jupyter <a href='command:jupyter.viewOutput'>log</a> for further details."
          ]
        }
      ],
      "source": [
        "# Random Forest\n",
        "\n",
        "random_forest = RandomForestClassifier(n_estimators=100)\n",
        "random_forest.fit(X_train, Y_train)\n",
        "Y_pred = random_forest.predict(X_test)\n",
        "random_forest.score(X_train, Y_train)\n",
        "acc_random_forest = round(random_forest.score(X_train, Y_train) * 100, 2)\n",
        "acc_random_forest\n"
      ]
    },
    {
      "attachments": {},
      "cell_type": "markdown",
      "metadata": {},
      "source": [
        "La lunghezza dei df: il primo è il numero degli elementi all'interno del dataframe di test, mentre il secondo è il numero di elementi predetti che sono uguali al risultato effettivo di test, dunque sono predict corrette."
      ]
    },
    {
      "cell_type": "code",
      "execution_count": null,
      "metadata": {},
      "outputs": [
        {
          "ename": "",
          "evalue": "",
          "output_type": "error",
          "traceback": [
            "\u001b[1;31mFailed to start the Kernel. \n",
            "\u001b[1;31mRuntimeError: Permissions assignment failed for secure file: '/mnt/d/Marco/.local/share/jupyter/runtime/kernel-v2-980ZpnBqUPOZ9nJ.json'. Got '0o677' instead of '0o0600'. \n",
            "\u001b[1;31mView Jupyter <a href='command:jupyter.viewOutput'>log</a> for further details."
          ]
        }
      ],
      "source": [
        "X_test['Y_predict'] = Y_pred\n",
        "X_test['Y'] = Y_test\n",
        "print(len(X_test.index))\n",
        "print(len(X_test[X_test['Y_predict'] == X_test['Y']].index))\n",
        "X_test['Y_predict']\n",
        "\n",
        "Y_pred"
      ]
    },
    {
      "attachments": {},
      "cell_type": "markdown",
      "metadata": {},
      "source": [
        "<h3 style=\"color: gold;\">Risultati:</h3>"
      ]
    },
    {
      "attachments": {},
      "cell_type": "markdown",
      "metadata": {},
      "source": [
        "<p style=\"color: gray;\">Ora stampo le varie percentuali di accuratezza per vedere quale modello si adatta meglio allo studio che voglio fare, ordinandoli in ordine decresente per percentuale</p>"
      ]
    },
    {
      "cell_type": "code",
      "execution_count": null,
      "metadata": {},
      "outputs": [
        {
          "ename": "",
          "evalue": "",
          "output_type": "error",
          "traceback": [
            "\u001b[1;31mFailed to start the Kernel. \n",
            "\u001b[1;31mRuntimeError: Permissions assignment failed for secure file: '/mnt/d/Marco/.local/share/jupyter/runtime/kernel-v2-980ZpnBqUPOZ9nJ.json'. Got '0o677' instead of '0o0600'. \n",
            "\u001b[1;31mView Jupyter <a href='command:jupyter.viewOutput'>log</a> for further details."
          ]
        }
      ],
      "source": [
        "models = pd.DataFrame({\n",
        "    'Model': ['Support Vector Machines', 'KNN', 'Logistic Regression', \n",
        "              'Random Forest', 'Naive Bayes', 'Perceptron', \n",
        "              'Stochastic Gradient Decent', 'Linear SVC', \n",
        "              'Decision Tree'],\n",
        "    'Score': [acc_svc, acc_knn, acc_log, \n",
        "              acc_random_forest, acc_gaussian, acc_perceptron, \n",
        "              acc_sgd, acc_linear_svc, acc_decision_tree]})\n",
        "models.sort_values(by='Score', ascending=False)"
      ]
    },
    {
      "attachments": {},
      "cell_type": "markdown",
      "metadata": {},
      "source": [
        "<p style =\"color: gray;\">Dalla tabella che ne risulta abbiamo che Random Forest e Decion Tree sono i modelli più accurati nel predirre la gravità delle condizioni del paziente.</p>"
      ]
    },
    {
      "attachments": {},
      "cell_type": "markdown",
      "metadata": {},
      "source": [
        "<h2 style=\"color: Red;\"> API </h2>"
      ]
    },
    {
      "cell_type": "code",
      "execution_count": null,
      "metadata": {},
      "outputs": [
        {
          "ename": "",
          "evalue": "",
          "output_type": "error",
          "traceback": [
            "\u001b[1;31mFailed to start the Kernel. \n",
            "\u001b[1;31mRuntimeError: Permissions assignment failed for secure file: '/mnt/d/Marco/.local/share/jupyter/runtime/kernel-v2-980ZpnBqUPOZ9nJ.json'. Got '0o677' instead of '0o0600'. \n",
            "\u001b[1;31mView Jupyter <a href='command:jupyter.viewOutput'>log</a> for further details."
          ]
        }
      ],
      "source": [
        "# runnare così:\n",
        "# python3 -m uvicorn main:app --reload --host 0.0.0.0\n",
        "\n",
        "variabile = 7\n",
        "\n",
        "app = FastAPI()\n",
        "\n",
        "@app.get(\"/getVariabile\")\n",
        "def read_root():\n",
        "    return {\"Hello\": variabile}\n",
        "\n",
        "\n",
        "@app.get(\"/GetValues\")\n",
        "def read_item(q: Union[str, None] = None):\n",
        "    return {\"led\": 0, \"temp\": -12.5, \"foto\": 1}\n",
        "\n",
        "@app.get(\"/ledon\")\n",
        "def ledOn():\n",
        "    return {\"code\": 200}\n",
        "\n",
        "@app.get(\"/ledoff\")\n",
        "def ledOn():\n",
        "    return {\"code\": 200}\n",
        "\n",
        "# @app.get(\"/setVariabile\")\n",
        "# def setVariabile(new_value: int):\n",
        "#     global variabile\n",
        "#     variabile = new_value\n",
        "#     return {\"Hello\": new_value}\n",
        "\n",
        "# if _name_ == \"_main_\":\n",
        "#     nest_asyncio.apply()\n",
        "#     uvicorn.run(app)"
      ]
    },
    {
      "attachments": {},
      "cell_type": "markdown",
      "metadata": {},
      "source": []
    }
  ],
  "metadata": {
    "colab": {
      "provenance": []
    },
    "kernelspec": {
      "display_name": "Python 3",
      "name": "python3"
    },
    "language_info": {
      "codemirror_mode": {
        "name": "ipython",
        "version": 3
      },
      "file_extension": ".py",
      "mimetype": "text/x-python",
      "name": "python",
      "nbconvert_exporter": "python",
      "pygments_lexer": "ipython3",
      "version": "3.10.11"
    }
  },
  "nbformat": 4,
  "nbformat_minor": 0
}
