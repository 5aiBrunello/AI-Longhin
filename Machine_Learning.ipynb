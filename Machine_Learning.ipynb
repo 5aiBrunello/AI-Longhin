{
  "cells": [
    {
      "attachments": {},
      "cell_type": "markdown",
      "metadata": {
        "id": "8HV4rVTmEg7D"
      },
      "source": [
        "<h2 style=\"color: red;\"><strong>Imports:</strong></h2>"
      ]
    },
    {
      "cell_type": "code",
      "execution_count": 148,
      "metadata": {
        "id": "BzXavdjEEfpH"
      },
      "outputs": [],
      "source": [
        "import pandas as pd\n",
        "\n",
        "# machine learning\n",
        "from sklearn.linear_model import LogisticRegression\n",
        "from sklearn.svm import SVC, LinearSVC\n",
        "from sklearn.ensemble import RandomForestClassifier\n",
        "from sklearn.neighbors import KNeighborsClassifier\n",
        "from sklearn.naive_bayes import GaussianNB\n",
        "from sklearn.linear_model import Perceptron\n",
        "from sklearn.linear_model import SGDClassifier\n",
        "from sklearn.tree import DecisionTreeClassifier\n",
        "from sklearn.metrics import accuracy_score\n",
        "from sklearn.model_selection import train_test_split"
      ]
    },
    {
      "attachments": {},
      "cell_type": "markdown",
      "metadata": {
        "id": "vNgdpTAvEkxm"
      },
      "source": [
        "<h2 style=\"color: red;\"><strong>Data Analysis:</strong></h2>"
      ]
    },
    {
      "attachments": {},
      "cell_type": "markdown",
      "metadata": {
        "id": "5jdNHe_rBFWk"
      },
      "source": [
        "<h4 style=\"color: gold;\">Funzioni:</h4>"
      ]
    },
    {
      "cell_type": "code",
      "execution_count": 149,
      "metadata": {
        "id": "AM4JmMYwBHN7"
      },
      "outputs": [],
      "source": [
        "def stampaPercentDF(df):\n",
        "    for name, group in df:\n",
        "    # La funzione value_counts() ritorna la percentuale di apparizione per ogni elemento univoco,\n",
        "    # è come un groupby però ci aggiunge le percentuali (se aggiungo il parametro normalize) altrimenti ritornebbe solo il numero di volte in cui i valori appaiono\n",
        "        group = round(group['Severity'].value_counts(normalize=True) * 100, 2)\n",
        "        print(name)\n",
        "        print(group)\n",
        "        print('-'*10)"
      ]
    },
    {
      "attachments": {},
      "cell_type": "markdown",
      "metadata": {
        "id": "nKKkH-e3JV_6"
      },
      "source": [
        "<h4 style=\"color: gold;\">DataFrames:</h4>"
      ]
    },
    {
      "cell_type": "code",
      "execution_count": 150,
      "metadata": {
        "id": "1JQm66jP1v3q"
      },
      "outputs": [],
      "source": [
        "df_completo = pd.read_csv('CSVCompleto.csv')"
      ]
    },
    {
      "attachments": {},
      "cell_type": "markdown",
      "metadata": {
        "id": "m-STVLsuADMx"
      },
      "source": [
        "<p style = \"color: white;\">Elimino tutti i valori Nan</p>"
      ]
    },
    {
      "cell_type": "code",
      "execution_count": 151,
      "metadata": {
        "id": "Gtq3qYw6ACel"
      },
      "outputs": [],
      "source": [
        "df_completo = df_completo[~(pd.isna(df_completo.iloc[:,0]))]"
      ]
    },
    {
      "attachments": {},
      "cell_type": "markdown",
      "metadata": {
        "id": "z6qyVhkhAata"
      },
      "source": [
        "<p style = \"color: white;\">Drop di colonne / righe non utili allo studio dei dati o che rendono più complesso lo studio</p>"
      ]
    },
    {
      "cell_type": "code",
      "execution_count": 152,
      "metadata": {},
      "outputs": [],
      "source": [
        "df_completo = df_completo.drop(df_completo[df_completo['Type'] == 'Moving average'].index, axis=0)\n",
        "df_completo = df_completo.drop(['Series_reference', 'Validation', 'Indicator', 'Data_value', 'Lower_CI', 'Upper_CI', 'Type'], axis=1)"
      ]
    },
    {
      "attachments": {},
      "cell_type": "markdown",
      "metadata": {
        "id": "1JzT2wuMA6Fx"
      },
      "source": [
        "<p style = \"color: white;\">Raggruppo e faccio il mapping di dati, dato che scikit-learn non ammette stringhe nei suoi modelli</p>"
      ]
    },
    {
      "cell_type": "code",
      "execution_count": 153,
      "metadata": {},
      "outputs": [
        {
          "name": "stdout",
          "output_type": "stream",
          "text": [
            "     Period  Units  Cause  Population  Age  Severity\n",
            "0      2017      1      4           1    2         3\n",
            "1      2018      1      4           1    2         3\n",
            "2      2000      3      4           1    2         3\n",
            "3      2001      3      4           1    2         3\n",
            "4      2002      3      4           1    2         3\n",
            "...     ...    ...    ...         ...  ...       ...\n",
            "2743   2012      1      4           1    2         3\n",
            "2744   2013      1      4           1    2         3\n",
            "2745   2014      1      4           1    2         3\n",
            "2746   2015      1      4           1    2         3\n",
            "2747   2016      1      4           1    2         3\n",
            "\n",
            "[2298 rows x 6 columns]\n"
          ]
        }
      ],
      "source": [
        "units_map = {\n",
        "    'Injuries': 1,\n",
        "    'Per 100,000 FTEs': 2,\n",
        "    'Per 100,000 people': 3,\n",
        "    'Per billion km': 4,\n",
        "    'Per thousand registered vehicles': 5\n",
        "}\n",
        "df_completo['Units'] = df_completo['Units'].map(units_map)\n",
        "\n",
        "# Abbiamo tirato via Indicator perchè le percentuali erano molto simili alla colonna Units e un analisi più approfondita ha rivelato che le stesse unità avevano per la maggior parte gli stessi indicatori\n",
        "\n",
        "pop_map = {\n",
        "    'Maori': 1,\n",
        "    'Whole pop': 2,\n",
        "    'Children': 3\n",
        "}\n",
        "df_completo['Population'] = df_completo['Population'].map(pop_map)\n",
        "\n",
        "cause_map = {\n",
        "    'All': 1,\n",
        "    'Assault': 2,\n",
        "    'Drowing': 3,\n",
        "    'Falls': 4,\n",
        "    'Intentional self-harm': 5,\n",
        "    'Motor vehicle traffic crashes': 6,\n",
        "    'Work': 7,\n",
        "    'Car occupant': 8,\n",
        "    'Intentional': 9,\n",
        "    'Pedestrian': 10\n",
        "}\n",
        "df_completo['Cause'] = df_completo['Cause'].map(cause_map)\n",
        "\n",
        "age_map = {\n",
        "    '0-14 years': 1,\n",
        "    '0-74 years': 2,\n",
        "    '75+ years': 3,\n",
        "    'All ages':4\n",
        "}\n",
        "df_completo['Age'] = df_completo['Age'].map(age_map)\n",
        "\n",
        "severity_map = {\n",
        "    'Fatal': 1,\n",
        "    'Serious non-fatal': 2,\n",
        "    'Serious': 3\n",
        "}\n",
        "df_completo['Severity'] = df_completo['Severity'].map(severity_map)\n",
        "\n",
        "print(df_completo)"
      ]
    },
    {
      "attachments": {},
      "cell_type": "markdown",
      "metadata": {},
      "source": [
        "<h2 style=\"color: Red;\"> Machine Learning</h2>"
      ]
    },
    {
      "cell_type": "markdown",
      "metadata": {},
      "source": []
    },
    {
      "attachments": {},
      "cell_type": "markdown",
      "metadata": {},
      "source": [
        "<p style=\"color: white;\">Dividiamo il file csv nei file di train e di test, il file di test ha il 30% del totale dei dati, mentre il file di train ha il 70% restante</p>"
      ]
    },
    {
      "cell_type": "code",
      "execution_count": 154,
      "metadata": {},
      "outputs": [],
      "source": [
        "# suddivide il dataframe in 70/30\n",
        "df_test, df_train = train_test_split(df_completo, test_size=0.3, random_state=42)\n",
        "\n",
        "# salva i dati in due file CSV distinti\n",
        "df_train.to_csv('medical-test.csv', index=False)\n",
        "df_test.to_csv('medical-train.csv', index=False)"
      ]
    },
    {
      "attachments": {},
      "cell_type": "markdown",
      "metadata": {},
      "source": [
        "<p style = \"color: white\">Creo le variabili di test / train utili per la predizione dei dati nei vari modelli</p>"
      ]
    },
    {
      "cell_type": "code",
      "execution_count": 155,
      "metadata": {},
      "outputs": [
        {
          "data": {
            "text/plain": [
              "((690, 5), (690,), (1608, 5))"
            ]
          },
          "execution_count": 155,
          "metadata": {},
          "output_type": "execute_result"
        }
      ],
      "source": [
        "Y_test = df_test[\"Severity\"]\n",
        "Y_train = df_train[\"Severity\"]\n",
        "X_train = df_train.drop(\"Severity\", axis=1)\n",
        "X_test  = df_test.drop(\"Severity\", axis=1,errors='ignore').copy()\n",
        "X_train.shape, Y_train.shape, X_test.shape"
      ]
    },
    {
      "attachments": {},
      "cell_type": "markdown",
      "metadata": {},
      "source": [
        "<h5 style=\"color: pink;\">Logistic Regression</h5>"
      ]
    },
    {
      "cell_type": "code",
      "execution_count": 156,
      "metadata": {
        "id": "9-d_tPbrBLV3"
      },
      "outputs": [
        {
          "name": "stdout",
          "output_type": "stream",
          "text": [
            "     Period  Units  Cause  Population  Age\n",
            "1341   2014      1      6           2    4\n",
            "352    2015      3      4           2    2\n",
            "91     2009      3      1           3    1\n",
            "2317   2001      3      1           1    4\n",
            "2285   2009      2      7           2    4\n",
            "...     ...    ...    ...         ...  ...\n",
            "2088   2000      3      4           2    4\n",
            "1545   2001      4      6           2    4\n",
            "1580   2018      5      6           2    4\n",
            "1744   2020      3      2           2    4\n",
            "1310   2002      3      3           2    4\n",
            "\n",
            "[1608 rows x 5 columns]\n",
            "45.22\n"
          ]
        },
        {
          "data": {
            "text/plain": [
              "47.39"
            ]
          },
          "execution_count": 156,
          "metadata": {},
          "output_type": "execute_result"
        }
      ],
      "source": [
        "logreg = LogisticRegression()\n",
        "logreg.fit(X_train, Y_train)\n",
        "print(X_test)\n",
        "acc_log = round(logreg.score(X_train, Y_train) * 100, 2)\n",
        "print(acc_log)\n",
        "acc_log = round(logreg.score(X_test, Y_test) * 100, 2)\n",
        "\n",
        "acc_log"
      ]
    },
    {
      "attachments": {},
      "cell_type": "markdown",
      "metadata": {},
      "source": [
        "<h5 style=\"color: pink;\">Support Vector Machines</h5>"
      ]
    },
    {
      "cell_type": "code",
      "execution_count": 157,
      "metadata": {},
      "outputs": [
        {
          "data": {
            "text/plain": [
              "35.8"
            ]
          },
          "execution_count": 157,
          "metadata": {},
          "output_type": "execute_result"
        }
      ],
      "source": [
        "# Support Vector Machines\n",
        "\n",
        "svc = SVC()\n",
        "svc.fit(X_train, Y_train)\n",
        "Y_pred = svc.predict(X_test)\n",
        "acc_svc = round(svc.score(X_train, Y_train) * 100, 2)\n",
        "acc_svc"
      ]
    },
    {
      "attachments": {},
      "cell_type": "markdown",
      "metadata": {},
      "source": [
        "<h5 style=\"color: pink;\">KNN</h5>"
      ]
    },
    {
      "cell_type": "code",
      "execution_count": 158,
      "metadata": {},
      "outputs": [
        {
          "data": {
            "text/plain": [
              "62.9"
            ]
          },
          "execution_count": 158,
          "metadata": {},
          "output_type": "execute_result"
        }
      ],
      "source": [
        "# KNN\n",
        "\n",
        "knn = KNeighborsClassifier(n_neighbors = 3)\n",
        "knn.fit(X_train, Y_train)\n",
        "Y_pred = knn.predict(X_test)\n",
        "acc_knn = round(knn.score(X_train, Y_train) * 100, 2)\n",
        "acc_knn"
      ]
    },
    {
      "attachments": {},
      "cell_type": "markdown",
      "metadata": {},
      "source": [
        "<h5 style=\"color: pink;\">Gaussian Naive Bayes</h5>"
      ]
    },
    {
      "cell_type": "code",
      "execution_count": 159,
      "metadata": {},
      "outputs": [
        {
          "data": {
            "text/plain": [
              "46.96"
            ]
          },
          "execution_count": 159,
          "metadata": {},
          "output_type": "execute_result"
        }
      ],
      "source": [
        "# Gaussian Naive Bayes\n",
        "\n",
        "gaussian = GaussianNB()\n",
        "gaussian.fit(X_train, Y_train)\n",
        "Y_pred = gaussian.predict(X_test)\n",
        "acc_gaussian = round(gaussian.score(X_train, Y_train) * 100, 2)\n",
        "acc_gaussian"
      ]
    },
    {
      "attachments": {},
      "cell_type": "markdown",
      "metadata": {},
      "source": [
        "<h5 style=\"color: pink;\">Perceptron</h5>"
      ]
    },
    {
      "cell_type": "code",
      "execution_count": 160,
      "metadata": {},
      "outputs": [
        {
          "data": {
            "text/plain": [
              "32.61"
            ]
          },
          "execution_count": 160,
          "metadata": {},
          "output_type": "execute_result"
        }
      ],
      "source": [
        "# Perceptron\n",
        "\n",
        "perceptron = Perceptron()\n",
        "perceptron.fit(X_train, Y_train)\n",
        "Y_pred = perceptron.predict(X_test)\n",
        "acc_perceptron = round(perceptron.score(X_train, Y_train) * 100, 2)\n",
        "acc_perceptron"
      ]
    },
    {
      "attachments": {},
      "cell_type": "markdown",
      "metadata": {},
      "source": [
        "<h5 style=\"color: pink;\">Linear SVC</h5>"
      ]
    },
    {
      "cell_type": "code",
      "execution_count": 161,
      "metadata": {},
      "outputs": [
        {
          "name": "stderr",
          "output_type": "stream",
          "text": [
            "C:\\Users\\marko\\AppData\\Local\\Packages\\PythonSoftwareFoundation.Python.3.10_qbz5n2kfra8p0\\LocalCache\\local-packages\\Python310\\site-packages\\sklearn\\svm\\_base.py:1244: ConvergenceWarning: Liblinear failed to converge, increase the number of iterations.\n",
            "  warnings.warn(\n"
          ]
        },
        {
          "data": {
            "text/plain": [
              "31.59"
            ]
          },
          "execution_count": 161,
          "metadata": {},
          "output_type": "execute_result"
        }
      ],
      "source": [
        "# Linear SVC\n",
        "\n",
        "linear_svc = LinearSVC()\n",
        "linear_svc.fit(X_train, Y_train)\n",
        "Y_pred = linear_svc.predict(X_test)\n",
        "acc_linear_svc = round(linear_svc.score(X_train, Y_train) * 100, 2)\n",
        "acc_linear_svc"
      ]
    },
    {
      "attachments": {},
      "cell_type": "markdown",
      "metadata": {},
      "source": [
        "<h5 style=\"color: pink;\">Stochastic Gradient Descent</h5>"
      ]
    },
    {
      "cell_type": "code",
      "execution_count": 162,
      "metadata": {},
      "outputs": [
        {
          "data": {
            "text/plain": [
              "35.8"
            ]
          },
          "execution_count": 162,
          "metadata": {},
          "output_type": "execute_result"
        }
      ],
      "source": [
        "# Stochastic Gradient Descent\n",
        "\n",
        "sgd = SGDClassifier()\n",
        "sgd.fit(X_train, Y_train)\n",
        "Y_pred = sgd.predict(X_test)\n",
        "acc_sgd = round(sgd.score(X_train, Y_train) * 100, 2)\n",
        "acc_sgd"
      ]
    },
    {
      "attachments": {},
      "cell_type": "markdown",
      "metadata": {},
      "source": [
        "<h5 style=\"color: pink;\">Decision Tree</h5>"
      ]
    },
    {
      "cell_type": "code",
      "execution_count": 163,
      "metadata": {},
      "outputs": [
        {
          "data": {
            "text/plain": [
              "79.71"
            ]
          },
          "execution_count": 163,
          "metadata": {},
          "output_type": "execute_result"
        }
      ],
      "source": [
        "# Decision Tree\n",
        "\n",
        "decision_tree = DecisionTreeClassifier()\n",
        "decision_tree.fit(X_train, Y_train)\n",
        "Y_pred = decision_tree.predict(X_test)\n",
        "acc_decision_tree = round(decision_tree.score(X_train, Y_train) * 100, 2)\n",
        "acc_decision_tree"
      ]
    },
    {
      "attachments": {},
      "cell_type": "markdown",
      "metadata": {},
      "source": [
        "<h5 style=\"color: pink;\">Random Forest</h5>"
      ]
    },
    {
      "cell_type": "code",
      "execution_count": 168,
      "metadata": {},
      "outputs": [
        {
          "data": {
            "text/plain": [
              "79.71"
            ]
          },
          "execution_count": 168,
          "metadata": {},
          "output_type": "execute_result"
        }
      ],
      "source": [
        "# Random Forest\n",
        "\n",
        "random_forest = RandomForestClassifier(n_estimators=100)\n",
        "random_forest.fit(X_train, Y_train)\n",
        "Y_pred = random_forest.predict(X_test)\n",
        "random_forest.score(X_train, Y_train)\n",
        "acc_random_forest = round(random_forest.score(X_train, Y_train) * 100, 2)\n",
        "acc_random_forest"
      ]
    },
    {
      "attachments": {},
      "cell_type": "markdown",
      "metadata": {},
      "source": [
        "<h3 style=\"color: gold;\">Risultati:</h3>"
      ]
    },
    {
      "attachments": {},
      "cell_type": "markdown",
      "metadata": {},
      "source": [
        "<p style=\"color: white;\">Ora stampo le varie percentuali di accuratezza per vedere quale modello si adatta meglio allo studio che voglio fare, ordinandoli in ordine decresente per percentuale</p>"
      ]
    },
    {
      "cell_type": "code",
      "execution_count": 165,
      "metadata": {},
      "outputs": [
        {
          "data": {
            "text/html": [
              "<div>\n",
              "<style scoped>\n",
              "    .dataframe tbody tr th:only-of-type {\n",
              "        vertical-align: middle;\n",
              "    }\n",
              "\n",
              "    .dataframe tbody tr th {\n",
              "        vertical-align: top;\n",
              "    }\n",
              "\n",
              "    .dataframe thead th {\n",
              "        text-align: right;\n",
              "    }\n",
              "</style>\n",
              "<table border=\"1\" class=\"dataframe\">\n",
              "  <thead>\n",
              "    <tr style=\"text-align: right;\">\n",
              "      <th></th>\n",
              "      <th>Model</th>\n",
              "      <th>Score</th>\n",
              "    </tr>\n",
              "  </thead>\n",
              "  <tbody>\n",
              "    <tr>\n",
              "      <th>3</th>\n",
              "      <td>Random Forest</td>\n",
              "      <td>79.71</td>\n",
              "    </tr>\n",
              "    <tr>\n",
              "      <th>8</th>\n",
              "      <td>Decision Tree</td>\n",
              "      <td>79.71</td>\n",
              "    </tr>\n",
              "    <tr>\n",
              "      <th>1</th>\n",
              "      <td>KNN</td>\n",
              "      <td>62.90</td>\n",
              "    </tr>\n",
              "    <tr>\n",
              "      <th>2</th>\n",
              "      <td>Logistic Regression</td>\n",
              "      <td>47.39</td>\n",
              "    </tr>\n",
              "    <tr>\n",
              "      <th>4</th>\n",
              "      <td>Naive Bayes</td>\n",
              "      <td>46.96</td>\n",
              "    </tr>\n",
              "    <tr>\n",
              "      <th>0</th>\n",
              "      <td>Support Vector Machines</td>\n",
              "      <td>35.80</td>\n",
              "    </tr>\n",
              "    <tr>\n",
              "      <th>6</th>\n",
              "      <td>Stochastic Gradient Decent</td>\n",
              "      <td>35.80</td>\n",
              "    </tr>\n",
              "    <tr>\n",
              "      <th>5</th>\n",
              "      <td>Perceptron</td>\n",
              "      <td>32.61</td>\n",
              "    </tr>\n",
              "    <tr>\n",
              "      <th>7</th>\n",
              "      <td>Linear SVC</td>\n",
              "      <td>31.59</td>\n",
              "    </tr>\n",
              "  </tbody>\n",
              "</table>\n",
              "</div>"
            ],
            "text/plain": [
              "                        Model  Score\n",
              "3               Random Forest  79.71\n",
              "8               Decision Tree  79.71\n",
              "1                         KNN  62.90\n",
              "2         Logistic Regression  47.39\n",
              "4                 Naive Bayes  46.96\n",
              "0     Support Vector Machines  35.80\n",
              "6  Stochastic Gradient Decent  35.80\n",
              "5                  Perceptron  32.61\n",
              "7                  Linear SVC  31.59"
            ]
          },
          "execution_count": 165,
          "metadata": {},
          "output_type": "execute_result"
        }
      ],
      "source": [
        "models = pd.DataFrame({\n",
        "    'Model': ['Support Vector Machines', 'KNN', 'Logistic Regression', \n",
        "              'Random Forest', 'Naive Bayes', 'Perceptron', \n",
        "              'Stochastic Gradient Decent', 'Linear SVC', \n",
        "              'Decision Tree'],\n",
        "    'Score': [acc_svc, acc_knn, acc_log, \n",
        "              acc_random_forest, acc_gaussian, acc_perceptron, \n",
        "              acc_sgd, acc_linear_svc, acc_decision_tree]})\n",
        "models.sort_values(by='Score', ascending=False)"
      ]
    },
    {
      "attachments": {},
      "cell_type": "markdown",
      "metadata": {},
      "source": [
        "<p style =\"color: white;\">Dalla tabella che ne risulta abbiamo che Random Forest e Decion Tree sono i modelli più accurati nel predirre la gravità delle condizioni del paziente.</p>"
      ]
    }
  ],
  "metadata": {
    "colab": {
      "provenance": []
    },
    "kernelspec": {
      "display_name": "Python 3",
      "name": "python3"
    },
    "language_info": {
      "codemirror_mode": {
        "name": "ipython",
        "version": 3
      },
      "file_extension": ".py",
      "mimetype": "text/x-python",
      "name": "python",
      "nbconvert_exporter": "python",
      "pygments_lexer": "ipython3",
      "version": "3.10.11"
    }
  },
  "nbformat": 4,
  "nbformat_minor": 0
}
